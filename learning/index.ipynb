bikin folder dan bikin notebook
